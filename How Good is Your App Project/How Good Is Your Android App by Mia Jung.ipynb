{
 "cells": [
  {
   "attachments": {},
   "cell_type": "markdown",
   "id": "bf298425",
   "metadata": {},
   "source": [
    "## How Good Is Your Android App?\n",
    "COSC-247 Machine Learning Project\n",
    "by Mia Jung"
   ]
  },
  {
   "cell_type": "code",
   "execution_count": 1,
   "id": "2e7e0441",
   "metadata": {},
   "outputs": [
    {
     "data": {
      "text/html": [
       "<div>\n",
       "<style scoped>\n",
       "    .dataframe tbody tr th:only-of-type {\n",
       "        vertical-align: middle;\n",
       "    }\n",
       "\n",
       "    .dataframe tbody tr th {\n",
       "        vertical-align: top;\n",
       "    }\n",
       "\n",
       "    .dataframe thead th {\n",
       "        text-align: right;\n",
       "    }\n",
       "</style>\n",
       "<table border=\"1\" class=\"dataframe\">\n",
       "  <thead>\n",
       "    <tr style=\"text-align: right;\">\n",
       "      <th></th>\n",
       "      <th>App</th>\n",
       "      <th>Rating</th>\n",
       "      <th>Installs</th>\n",
       "      <th>Price</th>\n",
       "      <th>DSLU (days since dec 1, 202)</th>\n",
       "      <th>Reviews</th>\n",
       "      <th>Size</th>\n",
       "      <th>Type</th>\n",
       "      <th>Current Ver</th>\n",
       "      <th>Android Ver</th>\n",
       "      <th>Category</th>\n",
       "      <th>Genres</th>\n",
       "      <th>Content Rating</th>\n",
       "    </tr>\n",
       "  </thead>\n",
       "  <tbody>\n",
       "    <tr>\n",
       "      <th>0</th>\n",
       "      <td>Photo Editor &amp; Candy Camera &amp; Grid &amp; ScrapBook</td>\n",
       "      <td>4.1</td>\n",
       "      <td>10000</td>\n",
       "      <td>0.0</td>\n",
       "      <td>1789</td>\n",
       "      <td>159</td>\n",
       "      <td>19000000.0</td>\n",
       "      <td>Free</td>\n",
       "      <td>1.0.0</td>\n",
       "      <td>4.0.3 and up</td>\n",
       "      <td>ART_AND_DESIGN</td>\n",
       "      <td>Art &amp; Design</td>\n",
       "      <td>Everyone</td>\n",
       "    </tr>\n",
       "    <tr>\n",
       "      <th>1</th>\n",
       "      <td>Coloring book moana</td>\n",
       "      <td>3.9</td>\n",
       "      <td>500000</td>\n",
       "      <td>0.0</td>\n",
       "      <td>1781</td>\n",
       "      <td>967</td>\n",
       "      <td>14000000.0</td>\n",
       "      <td>Free</td>\n",
       "      <td>2.0.0</td>\n",
       "      <td>4.0.3 and up</td>\n",
       "      <td>ART_AND_DESIGN</td>\n",
       "      <td>Art &amp; Design;Pretend Play</td>\n",
       "      <td>Everyone</td>\n",
       "    </tr>\n",
       "    <tr>\n",
       "      <th>2</th>\n",
       "      <td>U Launcher Lite â€“ FREE Live Cool Themes, Hid...</td>\n",
       "      <td>4.7</td>\n",
       "      <td>5000000</td>\n",
       "      <td>0.0</td>\n",
       "      <td>1583</td>\n",
       "      <td>87510</td>\n",
       "      <td>8.7</td>\n",
       "      <td>Free</td>\n",
       "      <td>1.2.4</td>\n",
       "      <td>4.0.3 and up</td>\n",
       "      <td>ART_AND_DESIGN</td>\n",
       "      <td>Art &amp; Design</td>\n",
       "      <td>Everyone</td>\n",
       "    </tr>\n",
       "    <tr>\n",
       "      <th>3</th>\n",
       "      <td>Sketch - Draw &amp; Paint</td>\n",
       "      <td>4.5</td>\n",
       "      <td>50000000</td>\n",
       "      <td>0.0</td>\n",
       "      <td>1637</td>\n",
       "      <td>215644</td>\n",
       "      <td>25000000.0</td>\n",
       "      <td>Free</td>\n",
       "      <td>Varies with device</td>\n",
       "      <td>4.2 and up</td>\n",
       "      <td>ART_AND_DESIGN</td>\n",
       "      <td>Art &amp; Design</td>\n",
       "      <td>Teen</td>\n",
       "    </tr>\n",
       "    <tr>\n",
       "      <th>4</th>\n",
       "      <td>Pixel Draw - Number Art Coloring Book</td>\n",
       "      <td>4.3</td>\n",
       "      <td>100000</td>\n",
       "      <td>0.0</td>\n",
       "      <td>1625</td>\n",
       "      <td>967</td>\n",
       "      <td>2.8</td>\n",
       "      <td>Free</td>\n",
       "      <td>1.1</td>\n",
       "      <td>4.4 and up</td>\n",
       "      <td>ART_AND_DESIGN</td>\n",
       "      <td>Art &amp; Design;Creativity</td>\n",
       "      <td>Everyone</td>\n",
       "    </tr>\n",
       "  </tbody>\n",
       "</table>\n",
       "</div>"
      ],
      "text/plain": [
       "                                                 App  Rating  Installs  Price  \\\n",
       "0     Photo Editor & Candy Camera & Grid & ScrapBook     4.1     10000    0.0   \n",
       "1                                Coloring book moana     3.9    500000    0.0   \n",
       "2  U Launcher Lite â€“ FREE Live Cool Themes, Hid...     4.7   5000000    0.0   \n",
       "3                              Sketch - Draw & Paint     4.5  50000000    0.0   \n",
       "4              Pixel Draw - Number Art Coloring Book     4.3    100000    0.0   \n",
       "\n",
       "   DSLU (days since dec 1, 202)  Reviews        Size  Type  \\\n",
       "0                          1789      159  19000000.0  Free   \n",
       "1                          1781      967  14000000.0  Free   \n",
       "2                          1583    87510         8.7  Free   \n",
       "3                          1637   215644  25000000.0  Free   \n",
       "4                          1625      967         2.8  Free   \n",
       "\n",
       "          Current Ver   Android Ver        Category  \\\n",
       "0               1.0.0  4.0.3 and up  ART_AND_DESIGN   \n",
       "1               2.0.0  4.0.3 and up  ART_AND_DESIGN   \n",
       "2               1.2.4  4.0.3 and up  ART_AND_DESIGN   \n",
       "3  Varies with device    4.2 and up  ART_AND_DESIGN   \n",
       "4                 1.1    4.4 and up  ART_AND_DESIGN   \n",
       "\n",
       "                      Genres Content Rating  \n",
       "0               Art & Design       Everyone  \n",
       "1  Art & Design;Pretend Play       Everyone  \n",
       "2               Art & Design       Everyone  \n",
       "3               Art & Design           Teen  \n",
       "4    Art & Design;Creativity       Everyone  "
      ]
     },
     "execution_count": 1,
     "metadata": {},
     "output_type": "execute_result"
    }
   ],
   "source": [
    "import os\n",
    "import pandas as pd\n",
    "import csv \n",
    "\n",
    "try:\n",
    "    data = pd.read_csv('processed app data.csv') # Read playstore csv file\n",
    "    \n",
    "except HTTPError:\n",
    "    s = 'processed app store data.csv'\n",
    "    print('From local path:', s)\n",
    "    data = pd.read_csv(s,\n",
    "                     header=None,\n",
    "                     encoding='utf-8')\n",
    "\n",
    "data.head()"
   ]
  },
  {
   "cell_type": "code",
   "execution_count": 2,
   "id": "443f607a",
   "metadata": {},
   "outputs": [
    {
     "data": {
      "text/html": [
       "<div>\n",
       "<style scoped>\n",
       "    .dataframe tbody tr th:only-of-type {\n",
       "        vertical-align: middle;\n",
       "    }\n",
       "\n",
       "    .dataframe tbody tr th {\n",
       "        vertical-align: top;\n",
       "    }\n",
       "\n",
       "    .dataframe thead th {\n",
       "        text-align: right;\n",
       "    }\n",
       "</style>\n",
       "<table border=\"1\" class=\"dataframe\">\n",
       "  <thead>\n",
       "    <tr style=\"text-align: right;\">\n",
       "      <th></th>\n",
       "      <th>App</th>\n",
       "      <th>Rating</th>\n",
       "      <th>Installs</th>\n",
       "      <th>Price</th>\n",
       "      <th>DSLU (days since dec 1, 202)</th>\n",
       "      <th>Reviews</th>\n",
       "      <th>Size</th>\n",
       "      <th>Type</th>\n",
       "      <th>Current Ver</th>\n",
       "      <th>Android Ver</th>\n",
       "      <th>Category</th>\n",
       "      <th>Genres</th>\n",
       "      <th>Content Rating</th>\n",
       "    </tr>\n",
       "  </thead>\n",
       "  <tbody>\n",
       "    <tr>\n",
       "      <th>7707</th>\n",
       "      <td>Chemin (fr)</td>\n",
       "      <td>4.8</td>\n",
       "      <td>1000</td>\n",
       "      <td>0.0</td>\n",
       "      <td>3175</td>\n",
       "      <td>44</td>\n",
       "      <td>619000.0</td>\n",
       "      <td>Free</td>\n",
       "      <td>0.8</td>\n",
       "      <td>2.2 and up</td>\n",
       "      <td>BOOKS_AND_REFERENCE</td>\n",
       "      <td>Books &amp; Reference</td>\n",
       "      <td>Everyone</td>\n",
       "    </tr>\n",
       "    <tr>\n",
       "      <th>7708</th>\n",
       "      <td>FR Calculator</td>\n",
       "      <td>4.0</td>\n",
       "      <td>500</td>\n",
       "      <td>0.0</td>\n",
       "      <td>1992</td>\n",
       "      <td>7</td>\n",
       "      <td>2.6</td>\n",
       "      <td>Free</td>\n",
       "      <td>1.0.0</td>\n",
       "      <td>4.1 and up</td>\n",
       "      <td>FAMILY</td>\n",
       "      <td>Education</td>\n",
       "      <td>Everyone</td>\n",
       "    </tr>\n",
       "    <tr>\n",
       "      <th>7709</th>\n",
       "      <td>Sya9a Maroc - FR</td>\n",
       "      <td>4.5</td>\n",
       "      <td>5000</td>\n",
       "      <td>0.0</td>\n",
       "      <td>1955</td>\n",
       "      <td>38</td>\n",
       "      <td>53000000.0</td>\n",
       "      <td>Free</td>\n",
       "      <td>1.48</td>\n",
       "      <td>4.1 and up</td>\n",
       "      <td>FAMILY</td>\n",
       "      <td>Education</td>\n",
       "      <td>Everyone</td>\n",
       "    </tr>\n",
       "    <tr>\n",
       "      <th>7710</th>\n",
       "      <td>Fr. Mike Schmitz Audio Teachings</td>\n",
       "      <td>5.0</td>\n",
       "      <td>100</td>\n",
       "      <td>0.0</td>\n",
       "      <td>1609</td>\n",
       "      <td>4</td>\n",
       "      <td>3.6</td>\n",
       "      <td>Free</td>\n",
       "      <td>1</td>\n",
       "      <td>4.1 and up</td>\n",
       "      <td>FAMILY</td>\n",
       "      <td>Education</td>\n",
       "      <td>Everyone</td>\n",
       "    </tr>\n",
       "    <tr>\n",
       "      <th>7711</th>\n",
       "      <td>iHoroscope - 2018 Daily Horoscope &amp; Astrology</td>\n",
       "      <td>4.5</td>\n",
       "      <td>10000000</td>\n",
       "      <td>0.0</td>\n",
       "      <td>1590</td>\n",
       "      <td>398307</td>\n",
       "      <td>19000000.0</td>\n",
       "      <td>Free</td>\n",
       "      <td>Varies with device</td>\n",
       "      <td>Varies with device</td>\n",
       "      <td>LIFESTYLE</td>\n",
       "      <td>Lifestyle</td>\n",
       "      <td>Everyone</td>\n",
       "    </tr>\n",
       "  </tbody>\n",
       "</table>\n",
       "</div>"
      ],
      "text/plain": [
       "                                                App  Rating  Installs  Price  \\\n",
       "7707                                    Chemin (fr)     4.8      1000    0.0   \n",
       "7708                                  FR Calculator     4.0       500    0.0   \n",
       "7709                               Sya9a Maroc - FR     4.5      5000    0.0   \n",
       "7710               Fr. Mike Schmitz Audio Teachings     5.0       100    0.0   \n",
       "7711  iHoroscope - 2018 Daily Horoscope & Astrology     4.5  10000000    0.0   \n",
       "\n",
       "      DSLU (days since dec 1, 202)  Reviews        Size  Type  \\\n",
       "7707                          3175       44    619000.0  Free   \n",
       "7708                          1992        7         2.6  Free   \n",
       "7709                          1955       38  53000000.0  Free   \n",
       "7710                          1609        4         3.6  Free   \n",
       "7711                          1590   398307  19000000.0  Free   \n",
       "\n",
       "             Current Ver         Android Ver             Category  \\\n",
       "7707                 0.8          2.2 and up  BOOKS_AND_REFERENCE   \n",
       "7708               1.0.0          4.1 and up               FAMILY   \n",
       "7709                1.48          4.1 and up               FAMILY   \n",
       "7710                   1          4.1 and up               FAMILY   \n",
       "7711  Varies with device  Varies with device            LIFESTYLE   \n",
       "\n",
       "                 Genres Content Rating  \n",
       "7707  Books & Reference       Everyone  \n",
       "7708          Education       Everyone  \n",
       "7709          Education       Everyone  \n",
       "7710          Education       Everyone  \n",
       "7711          Lifestyle       Everyone  "
      ]
     },
     "execution_count": 2,
     "metadata": {},
     "output_type": "execute_result"
    }
   ],
   "source": [
    "data.tail()"
   ]
  },
  {
   "cell_type": "code",
   "execution_count": 3,
   "id": "a477087a",
   "metadata": {},
   "outputs": [
    {
     "data": {
      "text/plain": [
       "(7712, 13)"
      ]
     },
     "execution_count": 3,
     "metadata": {},
     "output_type": "execute_result"
    }
   ],
   "source": [
    "data.shape # produces (numRow, numCol)"
   ]
  },
  {
   "cell_type": "code",
   "execution_count": 4,
   "id": "b6c7e4c4",
   "metadata": {},
   "outputs": [],
   "source": [
    "import numpy as np\n",
    "\n",
    "# Extract response variable 1 (user rating score) from the data- but remember the numbers are in Strings.\n",
    "y1Str = data.iloc[0:7712,1].values\n",
    "\n",
    "# convert response variable 1 from String to float.\n",
    "y1 = [float(numString) for numString in y1Str]\n",
    "\n",
    "# Extract the response variable 2 (num installs) from the data- but remember the numbers are in Strings.\n",
    "y2Str = data.iloc[0:7712,2].values\n",
    "\n",
    "# convert response variable 2 from String to float.\n",
    "y2 = [float(numString) for numString in y2Str]\n",
    "\n",
    "# predictor variables: price, dslu (days since last update), number of reviews and app size.\n",
    "X = data.iloc[0:, [3,4,5,6]].values"
   ]
  },
  {
   "cell_type": "code",
   "execution_count": 5,
   "id": "a01748e5",
   "metadata": {},
   "outputs": [],
   "source": [
    "### splitting data into trainng and testing sets.\n",
    "from sklearn.model_selection import train_test_split\n",
    "X_train, X_test, y1_train, y1_test = train_test_split(X, y1, test_size=0.3, random_state=1)\n",
    "\n",
    "X_train, X_test, y2_train, y2_test = train_test_split(X, y2, test_size=0.3, random_state=1)"
   ]
  },
  {
   "cell_type": "code",
   "execution_count": 6,
   "id": "ebc36340",
   "metadata": {},
   "outputs": [
    {
     "name": "stdout",
     "output_type": "stream",
     "text": [
      "R^2 train: 0.86\n",
      "R^2 test: -0.03\n"
     ]
    }
   ],
   "source": [
    "### Training a random forest regression model for target variable 2\n",
    "from sklearn.ensemble import RandomForestRegressor\n",
    "\n",
    "forest = RandomForestRegressor(n_estimators=100, criterion='squared_error', random_state=1, n_jobs=2)\n",
    "forest.fit(X_train, y1_train) # fit a random forest regression model using training data\n",
    "\n",
    "# Testing the model on the training and testing sets.\n",
    "y1_train_pred = forest.predict(X_train)\n",
    "y1_test_pred = forest.predict(X_test)\n",
    "\n",
    "# Reporting how well the model fits the training and testing sets by reporting the R^2 values.\n",
    "\n",
    "from sklearn.metrics import r2_score \n",
    "\n",
    "r2_train = r2_score(y1_train, y1_train_pred) \n",
    "r2_test =r2_score(y1_test, y1_test_pred)\n",
    "\n",
    "print(f'R^2 train: {r2_train:.2f}') \n",
    "print(f'R^2 test: {r2_test:.2f}') "
   ]
  },
  {
   "cell_type": "markdown",
   "id": "efbcbce8",
   "metadata": {},
   "source": [
    "Although the R^2 coefficient value is pretty good for the training data, I keep getting negative R^2 values for the testing data, even though I tried different combinations of features. There must be bad overfitting happening. What could I do to improve the performance?"
   ]
  },
  {
   "cell_type": "code",
   "execution_count": 7,
   "id": "34c2f0ed",
   "metadata": {},
   "outputs": [
    {
     "data": {
      "text/plain": [
       "Rating                          1.000000\n",
       "Installs                        0.052600\n",
       "Price                           0.017559\n",
       "DSLU (days since dec 1, 202)   -0.132764\n",
       "Reviews                         0.079750\n",
       "Size                            0.081479\n",
       "Name: Rating, dtype: float64"
      ]
     },
     "execution_count": 7,
     "metadata": {},
     "output_type": "execute_result"
    }
   ],
   "source": [
    "num_col = data.select_dtypes(include=np.number).columns.tolist()\n",
    "data[num_col].corr()[\"Rating\"] # checking the correlation between Rating and other variables."
   ]
  },
  {
   "cell_type": "code",
   "execution_count": 8,
   "id": "97a33c1b",
   "metadata": {},
   "outputs": [
    {
     "data": {
      "text/plain": [
       "Rating                          0.052600\n",
       "Installs                        1.000000\n",
       "Price                          -0.029600\n",
       "DSLU (days since dec 1, 202)   -0.085429\n",
       "Reviews                         0.626173\n",
       "Size                            0.162948\n",
       "Name: Installs, dtype: float64"
      ]
     },
     "execution_count": 8,
     "metadata": {},
     "output_type": "execute_result"
    }
   ],
   "source": [
    "data[num_col].corr()[\"Installs\"]# checking the correlation between total number of installations and other variables."
   ]
  },
  {
   "cell_type": "markdown",
   "id": "30857408",
   "metadata": {},
   "source": [
    "It seems like many of the features (price, dslu, number of reviews and app size) I expected would have a correlation with the target variables (rating score and number of installations) are not very correlated to my target variables as I had thought. \n",
    "\n",
    "I see a very slight correlation between the target variable Rating and the following features: total number of installations, price, number of reviews, and app size. I didn't think of including the number of installations, a target variable I'm interested in, as one of the features for the target variable Rating. It seems that the DSLU is not quite correlated to Rating, so I might want to take that out when developing my model for the target variable Rating.\n",
    "\n",
    "I see a surpirsingly strong correlation between Installs and number of Reviews and app Size. I also see a slight correlation between Installs and Rating. However, it seems that DSLU and price are not quite correlated to this target variable. I might want to take those features out of my model. \n",
    "\n",
    "I will try making a random forest regression model with the new combination of features."
   ]
  },
  {
   "cell_type": "code",
   "execution_count": 9,
   "id": "0c91bc96",
   "metadata": {},
   "outputs": [],
   "source": [
    "# predictor variables for target variable 1 (Ratings) = Installs, reviews, app size (columns 2, 5, and 6)\n",
    "X1 = data.iloc[0:, [2,5,6]].values\n",
    "\n",
    "# predictor variables for target variable 2 (Installs) = Ratings, reviews, and size (columns 1, 5, and 6)\n",
    "X2 = data.iloc[0:, [1,5,6]].values"
   ]
  },
  {
   "cell_type": "code",
   "execution_count": 10,
   "id": "600f17aa",
   "metadata": {},
   "outputs": [],
   "source": [
    "### splitting data into trainng and testing sets.\n",
    "from sklearn.model_selection import train_test_split\n",
    "X1_train, X1_test, y1_train, y1_test = train_test_split(X1, y1, test_size=0.3, random_state=1)\n",
    "\n",
    "X2_train, X2_test, y2_train, y2_test = train_test_split(X2, y2, test_size=0.3, random_state=1)"
   ]
  },
  {
   "cell_type": "code",
   "execution_count": 11,
   "id": "a85c3d8c",
   "metadata": {},
   "outputs": [
    {
     "name": "stdout",
     "output_type": "stream",
     "text": [
      "R^2 train: 0.85\n",
      "R^2 test: 0.02\n"
     ]
    }
   ],
   "source": [
    "# Training a random forest regression model for response variable 1\n",
    "from sklearn.ensemble import RandomForestRegressor\n",
    "\n",
    "forest = RandomForestRegressor(n_estimators=1000, criterion='squared_error', random_state=1, n_jobs=5)\n",
    "forest.fit(X1_train, y1_train) # fit a random forest regression model using training data\n",
    "\n",
    "# Testing the model on the training and testing sets.\n",
    "y1_train_pred = forest.predict(X1_train)\n",
    "y1_test_pred = forest.predict(X1_test)\n",
    "\n",
    "# Reporting how well the model fits the training and testing sets by reporting the R^2 values.\n",
    "\n",
    "from sklearn.metrics import r2_score \n",
    "\n",
    "r2_train = r2_score(y1_train, y1_train_pred) \n",
    "r2_test =r2_score(y1_test, y1_test_pred)\n",
    "\n",
    "print(f'R^2 train: {r2_train:.2f}') \n",
    "print(f'R^2 test: {r2_test:.2f}')"
   ]
  },
  {
   "cell_type": "markdown",
   "id": "57f57ecf",
   "metadata": {},
   "source": [
    "For response variable 1, Rating, the R^2 train decreased a little bit, but our R^2 test is no longer negative, at least!"
   ]
  },
  {
   "cell_type": "code",
   "execution_count": 12,
   "id": "be116dbd",
   "metadata": {},
   "outputs": [
    {
     "name": "stdout",
     "output_type": "stream",
     "text": [
      "[[4.60000e+00 6.90000e+01 3.10000e+00]\n",
      " [4.30000e+00 2.36000e+02 7.00000e+00]\n",
      " [4.40000e+00 7.47440e+04 6.00000e+07]\n",
      " ...\n",
      " [4.50000e+00 8.70928e+05 1.60000e+07]\n",
      " [4.10000e+00 1.20880e+04 2.10000e+07]\n",
      " [5.00000e+00 8.00000e+00 1.40000e+07]]\n",
      "[2.495e+03 3.970e+04 1.616e+06 ... 9.510e+07 1.590e+06 7.495e+01]\n",
      "[1.296e+05 3.609e+02 4.499e+04 ... 8.900e+07 5.475e+04 4.571e+05]\n",
      "\n",
      "R^2 train: 0.98\n",
      "R^2 test: 0.95\n"
     ]
    }
   ],
   "source": [
    "### Training a random forest regression model for response variable 2\n",
    "from sklearn.ensemble import RandomForestRegressor\n",
    "\n",
    "forest2 = RandomForestRegressor(n_estimators=100, criterion='squared_error', random_state=1, n_jobs=5)\n",
    "forest2.fit(X2_train, y2_train) # fit a random forest regression model using training data\n",
    "print(X2_train)\n",
    "\n",
    "# Testing the model on the training and testing sets.\n",
    "y2_train_pred = forest2.predict(X2_train)\n",
    "print(y2_train_pred)\n",
    "y2_test_pred = forest2.predict(X2_test)\n",
    "print(y2_test_pred)\n",
    "\n",
    "# Reporting how well the model fits the training and testing sets by reporting the R^2 values.\n",
    "\n",
    "from sklearn.metrics import r2_score \n",
    "\n",
    "r2_train = r2_score(y2_train, y2_train_pred) \n",
    "r2_test =r2_score(y2_test, y2_test_pred)\n",
    "print()\n",
    "print(f'R^2 train: {r2_train:.2f}') \n",
    "print(f'R^2 test: {r2_test:.2f}') "
   ]
  },
  {
   "cell_type": "markdown",
   "id": "a08c336b",
   "metadata": {},
   "source": [
    "This is much, much better! The R^2 values are in the high 90's for both the training and testing data. This model works very well! "
   ]
  },
  {
   "cell_type": "markdown",
   "id": "2b2574a6",
   "metadata": {},
   "source": [
    "So far, I have created a random forest regressor that predicts the user rating score of a given app after taking 3 features of the app as input- Installs, reviews, app size. The regressor works pretty well for the training data, but not well for the testing data.\n",
    "\n",
    "Also, I created a wonderful regression model that predicts the number of installations of an app after taking these three features of an app: user ratings, number of revies, and app size.\n",
    "\n",
    "However, I was skeptical of how my R^2 values were so high for the number of installations. And after taking a closer look at the data again, I realized that number of installations isn't a quanitative variable as I had assumed. It is categorical! \n",
    "\n",
    "So, something that definitely remains to be done is creating a random forest classifer for target variable 2 (number of Installations) rather than a regressor. Another thing that remains is that I would like to create something useful other than the random tree regressor for targe variable 1, since  the R^2 value for testing data is still very low. Perhaps I could make user ratings into a categorical variable as well- such as making a binary classifier that tells me whether my app will have above average (greater than 4.17 ) ratings or below average ratings, given certain features."
   ]
  },
  {
   "cell_type": "code",
   "execution_count": 13,
   "id": "c8f0c3da",
   "metadata": {},
   "outputs": [
    {
     "name": "stdout",
     "output_type": "stream",
     "text": [
      "Accuracy: 0.5496974935177182\n",
      "Precision: 0.5373793552727121\n",
      "Recall(Sensitivity): 0.5496974935177182\n",
      "F1 Score: 0.5397299599737548\n"
     ]
    }
   ],
   "source": [
    "#Import Random Forest Model\n",
    "from sklearn.ensemble import RandomForestClassifier\n",
    "\n",
    "#Create a Classifier\n",
    "clf=RandomForestClassifier(n_estimators=100)\n",
    "\n",
    "#Train the model using the training sets y_pred=clf.predict(X_test)\n",
    "clf.fit(X2_train,y2_train)\n",
    "\n",
    "y2_pred=clf.predict(X2_test)\n",
    "\n",
    "#Import scikit-learn metrics module to get performance metrics for our random forest classifier.\n",
    "from sklearn import metrics\n",
    "\n",
    "# Accuracy: how often the classifier is correct.\n",
    "print(\"Accuracy:\",metrics.accuracy_score(y2_test, y2_pred))\n",
    "\n",
    "# Precision: the fraction of the predicted positive instances which are true positive. \n",
    "print(\"Precision:\",metrics.precision_score(y2_test, y2_pred,average='weighted'))\n",
    "\n",
    "#Recall: sensitivity, aka the the fraction of positives events predicted correctly.\n",
    "print(\"Recall(Sensitivity):\",metrics.recall_score(y2_test, y2_pred,average='weighted'))\n",
    "\n",
    "# F1 Score: the harmonic mean of precision and recall.\n",
    "print(\"F1 Score:\",metrics.f1_score(y2_test, y2_pred,average='weighted'))"
   ]
  },
  {
   "cell_type": "markdown",
   "id": "4cd0c176",
   "metadata": {},
   "source": [
    "Here is my attempt at creating a random tree classifier for target variable 2 (number of installations), which, as stated before, turned out to be a categorical variable. \n",
    "\n",
    "The performance metrics are all slightly above 0.50. Although an accuracy of 50 percent is not ideal, this classifier would tell me the correct prediction (about which bin/category of installations an app would belong to) more than 50 percent of the time, which I think isn't too bad given that this is real world data."
   ]
  },
  {
   "cell_type": "code",
   "execution_count": 20,
   "id": "59a6acb5",
   "metadata": {},
   "outputs": [],
   "source": [
    "# Apps that have above-average ratings will be classified as 1. Otherwise, they will be classified as 0.\n",
    "y1binary=[]\n",
    "for rating in y1:\n",
    "    if (rating>=4.17):\n",
    "        y1binary.append(1)\n",
    "    else:\n",
    "        y1binary.append(0)\n",
    "        \n",
    "### splitting data into trainng and testing sets.\n",
    "from sklearn.model_selection import train_test_split\n",
    "X1binary_train, X1binary_test, y1binary_train, y1binary_test =\\\n",
    "        train_test_split(X1, y1binary, test_size=0.3, random_state=1) # the same features will be used to predict"
   ]
  },
  {
   "cell_type": "code",
   "execution_count": 22,
   "id": "2a0e9549",
   "metadata": {},
   "outputs": [
    {
     "name": "stdout",
     "output_type": "stream",
     "text": [
      "Accuracy: 0.0\n",
      "Precision: 0.0\n",
      "Recall(Sensitivity): 0.0\n",
      "F1 Score: 0.0\n"
     ]
    },
    {
     "name": "stderr",
     "output_type": "stream",
     "text": [
      "C:\\Users\\USER\\anaconda33\\lib\\site-packages\\sklearn\\metrics\\_classification.py:1987: UserWarning: y_pred contains classes not in y_true\n",
      "  warnings.warn(\"y_pred contains classes not in y_true\")\n",
      "C:\\Users\\USER\\anaconda33\\lib\\site-packages\\sklearn\\metrics\\_classification.py:1318: UndefinedMetricWarning: Precision is ill-defined and being set to 0.0 in labels with no predicted samples. Use `zero_division` parameter to control this behavior.\n",
      "  _warn_prf(average, modifier, msg_start, len(result))\n",
      "C:\\Users\\USER\\anaconda33\\lib\\site-packages\\sklearn\\metrics\\_classification.py:1318: UndefinedMetricWarning: Recall is ill-defined and being set to 0.0 in labels with no true samples. Use `zero_division` parameter to control this behavior.\n",
      "  _warn_prf(average, modifier, msg_start, len(result))\n"
     ]
    }
   ],
   "source": [
    "#Import Random Forest Model\n",
    "from sklearn.ensemble import RandomForestClassifier\n",
    "\n",
    "#Create a Classifier\n",
    "binary_clf=RandomForestClassifier(n_estimators=100)\n",
    "\n",
    "#Train the model using the training sets y_pred=clf.predict(X_test)\n",
    "binary_clf.fit(X1binary_train,y1binary_train)\n",
    "\n",
    "y1binary_pred=clf.predict(X1binary_test)\n",
    "\n",
    "#Import scikit-learn metrics module to get performance metrics for our random forest classifier.\n",
    "from sklearn import metrics\n",
    "\n",
    "# Accuracy: how often the classifier is correct.\n",
    "print(\"Accuracy:\",metrics.balanced_accuracy_score(y1binary_test, y1binary_pred))\n",
    "\n",
    "# Precision: the fraction of the predicted positive instances which are true positive. \n",
    "print(\"Precision:\",metrics.precision_score(y1binary_test, y1binary_pred,average='weighted'))\n",
    "\n",
    "#Recall: sensitivity, aka the the fraction of positives events predicted correctly.\n",
    "print(\"Recall(Sensitivity):\",metrics.recall_score(y1binary_test, y1binary_pred,average='weighted'))\n",
    "\n",
    "# F1 Score: the harmonic mean of precision and recall.\n",
    "print(\"F1 Score:\",metrics.f1_score(y1binary_test, y1binary_pred,average='weighted'))"
   ]
  },
  {
   "attachments": {},
   "cell_type": "markdown",
   "id": "def68354",
   "metadata": {},
   "source": [
    "This is a model that tells me (with 66 percent accuracy) whether or not the user rating score of an app would be above average (4.17), given the 3 features: total number of installations, number of reviews, and app size. The performance scores for this model are better than my random forest classifier that has number of installations as the target variable!"
   ]
  }
 ],
 "metadata": {
  "kernelspec": {
   "display_name": "Python 3 (ipykernel)",
   "language": "python",
   "name": "python3"
  },
  "language_info": {
   "codemirror_mode": {
    "name": "ipython",
    "version": 3
   },
   "file_extension": ".py",
   "mimetype": "text/x-python",
   "name": "python",
   "nbconvert_exporter": "python",
   "pygments_lexer": "ipython3",
   "version": "3.9.13"
  }
 },
 "nbformat": 4,
 "nbformat_minor": 5
}
